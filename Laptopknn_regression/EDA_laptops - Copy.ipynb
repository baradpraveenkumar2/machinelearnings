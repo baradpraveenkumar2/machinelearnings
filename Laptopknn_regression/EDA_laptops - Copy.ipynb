{
 "cells": [
  {
   "cell_type": "code",
   "execution_count": 2,
   "metadata": {},
   "outputs": [
    {
     "name": "stdout",
     "output_type": "stream",
     "text": [
      "Collecting seaborn\n",
      "  Downloading seaborn-0.13.2-py3-none-any.whl.metadata (5.4 kB)\n",
      "Requirement already satisfied: numpy!=1.24.0,>=1.20 in c:\\users\\prave\\anaconda3\\envs\\dmp\\lib\\site-packages (from seaborn) (1.24.4)\n",
      "Requirement already satisfied: pandas>=1.2 in c:\\users\\prave\\anaconda3\\envs\\dmp\\lib\\site-packages (from seaborn) (2.0.3)\n",
      "Requirement already satisfied: matplotlib!=3.6.1,>=3.4 in c:\\users\\prave\\anaconda3\\envs\\dmp\\lib\\site-packages (from seaborn) (3.7.5)\n",
      "Requirement already satisfied: contourpy>=1.0.1 in c:\\users\\prave\\anaconda3\\envs\\dmp\\lib\\site-packages (from matplotlib!=3.6.1,>=3.4->seaborn) (1.1.1)\n",
      "Requirement already satisfied: cycler>=0.10 in c:\\users\\prave\\anaconda3\\envs\\dmp\\lib\\site-packages (from matplotlib!=3.6.1,>=3.4->seaborn) (0.12.1)\n",
      "Requirement already satisfied: fonttools>=4.22.0 in c:\\users\\prave\\anaconda3\\envs\\dmp\\lib\\site-packages (from matplotlib!=3.6.1,>=3.4->seaborn) (4.49.0)\n",
      "Requirement already satisfied: kiwisolver>=1.0.1 in c:\\users\\prave\\anaconda3\\envs\\dmp\\lib\\site-packages (from matplotlib!=3.6.1,>=3.4->seaborn) (1.4.5)\n",
      "Requirement already satisfied: packaging>=20.0 in c:\\users\\prave\\anaconda3\\envs\\dmp\\lib\\site-packages (from matplotlib!=3.6.1,>=3.4->seaborn) (23.1)\n",
      "Requirement already satisfied: pillow>=6.2.0 in c:\\users\\prave\\anaconda3\\envs\\dmp\\lib\\site-packages (from matplotlib!=3.6.1,>=3.4->seaborn) (10.2.0)\n",
      "Requirement already satisfied: pyparsing>=2.3.1 in c:\\users\\prave\\anaconda3\\envs\\dmp\\lib\\site-packages (from matplotlib!=3.6.1,>=3.4->seaborn) (3.1.1)\n",
      "Requirement already satisfied: python-dateutil>=2.7 in c:\\users\\prave\\anaconda3\\envs\\dmp\\lib\\site-packages (from matplotlib!=3.6.1,>=3.4->seaborn) (2.8.2)\n",
      "Requirement already satisfied: importlib-resources>=3.2.0 in c:\\users\\prave\\anaconda3\\envs\\dmp\\lib\\site-packages (from matplotlib!=3.6.1,>=3.4->seaborn) (6.1.1)\n",
      "Requirement already satisfied: pytz>=2020.1 in c:\\users\\prave\\anaconda3\\envs\\dmp\\lib\\site-packages (from pandas>=1.2->seaborn) (2023.3.post1)\n",
      "Requirement already satisfied: tzdata>=2022.1 in c:\\users\\prave\\anaconda3\\envs\\dmp\\lib\\site-packages (from pandas>=1.2->seaborn) (2024.1)\n",
      "Requirement already satisfied: zipp>=3.1.0 in c:\\users\\prave\\anaconda3\\envs\\dmp\\lib\\site-packages (from importlib-resources>=3.2.0->matplotlib!=3.6.1,>=3.4->seaborn) (3.17.0)\n",
      "Requirement already satisfied: six>=1.5 in c:\\users\\prave\\anaconda3\\envs\\dmp\\lib\\site-packages (from python-dateutil>=2.7->matplotlib!=3.6.1,>=3.4->seaborn) (1.16.0)\n",
      "Downloading seaborn-0.13.2-py3-none-any.whl (294 kB)\n",
      "   ---------------------------------------- 0.0/294.9 kB ? eta -:--:--\n",
      "   ---------------------------------------- 0.0/294.9 kB ? eta -:--:--\n",
      "   - -------------------------------------- 10.2/294.9 kB ? eta -:--:--\n",
      "   - -------------------------------------- 10.2/294.9 kB ? eta -:--:--\n",
      "   - -------------------------------------- 10.2/294.9 kB ? eta -:--:--\n",
      "   ---- ---------------------------------- 30.7/294.9 kB 100.9 kB/s eta 0:00:03\n",
      "   ----- --------------------------------- 41.0/294.9 kB 103.4 kB/s eta 0:00:03\n",
      "   ----- --------------------------------- 41.0/294.9 kB 103.4 kB/s eta 0:00:03\n",
      "   -------- ------------------------------ 61.4/294.9 kB 142.6 kB/s eta 0:00:02\n",
      "   -------- ------------------------------ 61.4/294.9 kB 142.6 kB/s eta 0:00:02\n",
      "   ------------ -------------------------- 92.2/294.9 kB 174.7 kB/s eta 0:00:02\n",
      "   -------------- ----------------------- 112.6/294.9 kB 198.4 kB/s eta 0:00:01\n",
      "   -------------- ----------------------- 112.6/294.9 kB 198.4 kB/s eta 0:00:01\n",
      "   ------------------ ------------------- 143.4/294.9 kB 218.6 kB/s eta 0:00:01\n",
      "   ------------------------- ------------ 194.6/294.9 kB 268.3 kB/s eta 0:00:01\n",
      "   ----------------------------- -------- 225.3/294.9 kB 293.0 kB/s eta 0:00:01\n",
      "   ------------------------------ ------- 235.5/294.9 kB 300.4 kB/s eta 0:00:01\n",
      "   ----------------------------------- -- 276.5/294.9 kB 334.1 kB/s eta 0:00:01\n",
      "   ------------------------------------ - 286.7/294.9 kB 316.0 kB/s eta 0:00:01\n",
      "   -------------------------------------- 294.9/294.9 kB 314.2 kB/s eta 0:00:00\n",
      "Installing collected packages: seaborn\n",
      "Successfully installed seaborn-0.13.2\n",
      "Note: you may need to restart the kernel to use updated packages.\n"
     ]
    }
   ],
   "source": [
    "pip install seaborn\n"
   ]
  },
  {
   "cell_type": "code",
   "execution_count": 3,
   "metadata": {},
   "outputs": [],
   "source": [
    "import pandas as pd\n",
    "import numpy as np\n",
    "from sklearn.model_selection import train_test_split\n",
    "from sklearn.neighbors import KNeighborsRegressor\n",
    "from sklearn.metrics import mean_absolute_percentage_error,mean_squared_error, r2_score\n",
    "import seaborn as sns\n",
    "import matplotlib.pyplot as plt"
   ]
  },
  {
   "cell_type": "code",
   "execution_count": 114,
   "metadata": {},
   "outputs": [],
   "source": [
    "# Step 1: Read the dataset and basic dataframe exploration\n",
    "df = pd.read_csv('laptops_data.csv')"
   ]
  },
  {
   "cell_type": "code",
   "execution_count": 115,
   "metadata": {},
   "outputs": [
    {
     "data": {
      "text/html": [
       "<div>\n",
       "<style scoped>\n",
       "    .dataframe tbody tr th:only-of-type {\n",
       "        vertical-align: middle;\n",
       "    }\n",
       "\n",
       "    .dataframe tbody tr th {\n",
       "        vertical-align: top;\n",
       "    }\n",
       "\n",
       "    .dataframe thead th {\n",
       "        text-align: right;\n",
       "    }\n",
       "</style>\n",
       "<table border=\"1\" class=\"dataframe\">\n",
       "  <thead>\n",
       "    <tr style=\"text-align: right;\">\n",
       "      <th></th>\n",
       "      <th>index</th>\n",
       "      <th>Model</th>\n",
       "      <th>Price</th>\n",
       "      <th>Rating</th>\n",
       "      <th>processor_brand</th>\n",
       "      <th>ram_memory</th>\n",
       "      <th>primary_storage_type</th>\n",
       "      <th>primary_storage_capacity</th>\n",
       "      <th>display_size</th>\n",
       "      <th>OS</th>\n",
       "      <th>year_of_warranty</th>\n",
       "    </tr>\n",
       "  </thead>\n",
       "  <tbody>\n",
       "    <tr>\n",
       "      <th>0</th>\n",
       "      <td>1</td>\n",
       "      <td>Tecno Megabook T1 Laptop (11th Gen Core i3/ 8G...</td>\n",
       "      <td>23990</td>\n",
       "      <td>63</td>\n",
       "      <td>intel</td>\n",
       "      <td>8</td>\n",
       "      <td>SSD</td>\n",
       "      <td>512</td>\n",
       "      <td>15.6</td>\n",
       "      <td>windows</td>\n",
       "      <td>1</td>\n",
       "    </tr>\n",
       "    <tr>\n",
       "      <th>1</th>\n",
       "      <td>2</td>\n",
       "      <td>Tecno Megabook T1 Laptop (11th Gen Core i7/ 16...</td>\n",
       "      <td>35990</td>\n",
       "      <td>67</td>\n",
       "      <td>intel</td>\n",
       "      <td>16</td>\n",
       "      <td>SSD</td>\n",
       "      <td>1024</td>\n",
       "      <td>15.6</td>\n",
       "      <td>windows</td>\n",
       "      <td>1</td>\n",
       "    </tr>\n",
       "    <tr>\n",
       "      <th>2</th>\n",
       "      <td>3</td>\n",
       "      <td>HP Victus 15-fb0157AX Gaming Laptop (AMD Ryzen...</td>\n",
       "      <td>51100</td>\n",
       "      <td>73</td>\n",
       "      <td>amd</td>\n",
       "      <td>8</td>\n",
       "      <td>SSD</td>\n",
       "      <td>512</td>\n",
       "      <td>15.6</td>\n",
       "      <td>windows</td>\n",
       "      <td>1</td>\n",
       "    </tr>\n",
       "    <tr>\n",
       "      <th>3</th>\n",
       "      <td>4</td>\n",
       "      <td>Acer Extensa EX214-53 Laptop (12th Gen Core i5...</td>\n",
       "      <td>39990</td>\n",
       "      <td>62</td>\n",
       "      <td>intel</td>\n",
       "      <td>8</td>\n",
       "      <td>SSD</td>\n",
       "      <td>512</td>\n",
       "      <td>14.0</td>\n",
       "      <td>windows</td>\n",
       "      <td>1</td>\n",
       "    </tr>\n",
       "    <tr>\n",
       "      <th>4</th>\n",
       "      <td>5</td>\n",
       "      <td>Lenovo V15 82KDA01BIH Laptop (AMD Ryzen 3 5300...</td>\n",
       "      <td>28580</td>\n",
       "      <td>62</td>\n",
       "      <td>amd</td>\n",
       "      <td>8</td>\n",
       "      <td>SSD</td>\n",
       "      <td>512</td>\n",
       "      <td>15.6</td>\n",
       "      <td>windows</td>\n",
       "      <td>1</td>\n",
       "    </tr>\n",
       "  </tbody>\n",
       "</table>\n",
       "</div>"
      ],
      "text/plain": [
       "   index                                              Model  Price  Rating  \\\n",
       "0      1  Tecno Megabook T1 Laptop (11th Gen Core i3/ 8G...  23990      63   \n",
       "1      2  Tecno Megabook T1 Laptop (11th Gen Core i7/ 16...  35990      67   \n",
       "2      3  HP Victus 15-fb0157AX Gaming Laptop (AMD Ryzen...  51100      73   \n",
       "3      4  Acer Extensa EX214-53 Laptop (12th Gen Core i5...  39990      62   \n",
       "4      5  Lenovo V15 82KDA01BIH Laptop (AMD Ryzen 3 5300...  28580      62   \n",
       "\n",
       "  processor_brand  ram_memory primary_storage_type  primary_storage_capacity  \\\n",
       "0           intel           8                  SSD                       512   \n",
       "1           intel          16                  SSD                      1024   \n",
       "2             amd           8                  SSD                       512   \n",
       "3           intel           8                  SSD                       512   \n",
       "4             amd           8                  SSD                       512   \n",
       "\n",
       "   display_size       OS year_of_warranty  \n",
       "0          15.6  windows                1  \n",
       "1          15.6  windows                1  \n",
       "2          15.6  windows                1  \n",
       "3          14.0  windows                1  \n",
       "4          15.6  windows                1  "
      ]
     },
     "execution_count": 115,
     "metadata": {},
     "output_type": "execute_result"
    }
   ],
   "source": [
    "df.head()"
   ]
  },
  {
   "cell_type": "code",
   "execution_count": 116,
   "metadata": {},
   "outputs": [
    {
     "data": {
      "text/html": [
       "<div>\n",
       "<style scoped>\n",
       "    .dataframe tbody tr th:only-of-type {\n",
       "        vertical-align: middle;\n",
       "    }\n",
       "\n",
       "    .dataframe tbody tr th {\n",
       "        vertical-align: top;\n",
       "    }\n",
       "\n",
       "    .dataframe thead th {\n",
       "        text-align: right;\n",
       "    }\n",
       "</style>\n",
       "<table border=\"1\" class=\"dataframe\">\n",
       "  <thead>\n",
       "    <tr style=\"text-align: right;\">\n",
       "      <th></th>\n",
       "      <th>index</th>\n",
       "      <th>Model</th>\n",
       "      <th>Price</th>\n",
       "      <th>Rating</th>\n",
       "      <th>processor_brand</th>\n",
       "      <th>ram_memory</th>\n",
       "      <th>primary_storage_type</th>\n",
       "      <th>primary_storage_capacity</th>\n",
       "      <th>display_size</th>\n",
       "      <th>OS</th>\n",
       "      <th>year_of_warranty</th>\n",
       "    </tr>\n",
       "  </thead>\n",
       "  <tbody>\n",
       "    <tr>\n",
       "      <th>986</th>\n",
       "      <td>998</td>\n",
       "      <td>Asus Vivobook Pro 15 M6500QC-HN542WS Laptop (R...</td>\n",
       "      <td>65990</td>\n",
       "      <td>68</td>\n",
       "      <td>amd</td>\n",
       "      <td>16</td>\n",
       "      <td>SSD</td>\n",
       "      <td>512</td>\n",
       "      <td>15.6</td>\n",
       "      <td>windows</td>\n",
       "      <td>1</td>\n",
       "    </tr>\n",
       "    <tr>\n",
       "      <th>987</th>\n",
       "      <td>999</td>\n",
       "      <td>MSI Thin GF63 12VE-070IN Gaming Laptop (12th G...</td>\n",
       "      <td>91990</td>\n",
       "      <td>73</td>\n",
       "      <td>intel</td>\n",
       "      <td>16</td>\n",
       "      <td>SSD</td>\n",
       "      <td>512</td>\n",
       "      <td>15.6</td>\n",
       "      <td>windows</td>\n",
       "      <td>2</td>\n",
       "    </tr>\n",
       "    <tr>\n",
       "      <th>988</th>\n",
       "      <td>1000</td>\n",
       "      <td>Asus Vivobook Go 15 2023 E1504FA-NJ522WS Lapto...</td>\n",
       "      <td>44990</td>\n",
       "      <td>59</td>\n",
       "      <td>amd</td>\n",
       "      <td>8</td>\n",
       "      <td>SSD</td>\n",
       "      <td>512</td>\n",
       "      <td>15.6</td>\n",
       "      <td>windows</td>\n",
       "      <td>1</td>\n",
       "    </tr>\n",
       "    <tr>\n",
       "      <th>989</th>\n",
       "      <td>1001</td>\n",
       "      <td>Asus Zenbook 14 2023 UM3402YA-KP541WS Laptop (...</td>\n",
       "      <td>67990</td>\n",
       "      <td>68</td>\n",
       "      <td>amd</td>\n",
       "      <td>16</td>\n",
       "      <td>SSD</td>\n",
       "      <td>512</td>\n",
       "      <td>14.0</td>\n",
       "      <td>windows</td>\n",
       "      <td>1</td>\n",
       "    </tr>\n",
       "    <tr>\n",
       "      <th>990</th>\n",
       "      <td>1002</td>\n",
       "      <td>HP Chromebook 15a-na0008TU Laptop (Intel Celer...</td>\n",
       "      <td>20990</td>\n",
       "      <td>37</td>\n",
       "      <td>intel</td>\n",
       "      <td>4</td>\n",
       "      <td>HDD</td>\n",
       "      <td>128</td>\n",
       "      <td>15.6</td>\n",
       "      <td>chrome</td>\n",
       "      <td>1</td>\n",
       "    </tr>\n",
       "  </tbody>\n",
       "</table>\n",
       "</div>"
      ],
      "text/plain": [
       "     index                                              Model  Price  Rating  \\\n",
       "986    998  Asus Vivobook Pro 15 M6500QC-HN542WS Laptop (R...  65990      68   \n",
       "987    999  MSI Thin GF63 12VE-070IN Gaming Laptop (12th G...  91990      73   \n",
       "988   1000  Asus Vivobook Go 15 2023 E1504FA-NJ522WS Lapto...  44990      59   \n",
       "989   1001  Asus Zenbook 14 2023 UM3402YA-KP541WS Laptop (...  67990      68   \n",
       "990   1002  HP Chromebook 15a-na0008TU Laptop (Intel Celer...  20990      37   \n",
       "\n",
       "    processor_brand  ram_memory primary_storage_type  \\\n",
       "986             amd          16                  SSD   \n",
       "987           intel          16                  SSD   \n",
       "988             amd           8                  SSD   \n",
       "989             amd          16                  SSD   \n",
       "990           intel           4                  HDD   \n",
       "\n",
       "     primary_storage_capacity  display_size       OS year_of_warranty  \n",
       "986                       512          15.6  windows                1  \n",
       "987                       512          15.6  windows                2  \n",
       "988                       512          15.6  windows                1  \n",
       "989                       512          14.0  windows                1  \n",
       "990                       128          15.6   chrome                1  "
      ]
     },
     "execution_count": 116,
     "metadata": {},
     "output_type": "execute_result"
    }
   ],
   "source": [
    "df.tail()"
   ]
  },
  {
   "cell_type": "code",
   "execution_count": 117,
   "metadata": {},
   "outputs": [
    {
     "data": {
      "text/plain": [
       "(991, 11)"
      ]
     },
     "execution_count": 117,
     "metadata": {},
     "output_type": "execute_result"
    }
   ],
   "source": [
    "df.shape"
   ]
  },
  {
   "cell_type": "code",
   "execution_count": 118,
   "metadata": {},
   "outputs": [
    {
     "data": {
      "text/plain": [
       "index                         int64\n",
       "Model                        object\n",
       "Price                         int64\n",
       "Rating                        int64\n",
       "processor_brand              object\n",
       "ram_memory                    int64\n",
       "primary_storage_type         object\n",
       "primary_storage_capacity      int64\n",
       "display_size                float64\n",
       "OS                           object\n",
       "year_of_warranty             object\n",
       "dtype: object"
      ]
     },
     "execution_count": 118,
     "metadata": {},
     "output_type": "execute_result"
    }
   ],
   "source": [
    "df.dtypes"
   ]
  },
  {
   "cell_type": "code",
   "execution_count": 119,
   "metadata": {},
   "outputs": [],
   "source": [
    "# some columns require encoding as they are categorical"
   ]
  },
  {
   "cell_type": "code",
   "execution_count": 120,
   "metadata": {},
   "outputs": [
    {
     "name": "stdout",
     "output_type": "stream",
     "text": [
      "Index(['index', 'Model', 'Price', 'Rating', 'processor_brand', 'ram_memory',\n",
      "       'primary_storage_type', 'primary_storage_capacity', 'display_size',\n",
      "       'OS', 'year_of_warranty'],\n",
      "      dtype='object')\n"
     ]
    }
   ],
   "source": [
    "print(df.columns)"
   ]
  },
  {
   "cell_type": "code",
   "execution_count": null,
   "metadata": {},
   "outputs": [],
   "source": [
    "# Step 2: Summary statistics of numeric columns"
   ]
  },
  {
   "cell_type": "code",
   "execution_count": 121,
   "metadata": {},
   "outputs": [
    {
     "name": "stdout",
     "output_type": "stream",
     "text": [
      "\n",
      "Step 2: Summary Statistics of Numeric Columns\n"
     ]
    },
    {
     "data": {
      "text/html": [
       "<div>\n",
       "<style scoped>\n",
       "    .dataframe tbody tr th:only-of-type {\n",
       "        vertical-align: middle;\n",
       "    }\n",
       "\n",
       "    .dataframe tbody tr th {\n",
       "        vertical-align: top;\n",
       "    }\n",
       "\n",
       "    .dataframe thead th {\n",
       "        text-align: right;\n",
       "    }\n",
       "</style>\n",
       "<table border=\"1\" class=\"dataframe\">\n",
       "  <thead>\n",
       "    <tr style=\"text-align: right;\">\n",
       "      <th></th>\n",
       "      <th>index</th>\n",
       "      <th>Price</th>\n",
       "      <th>Rating</th>\n",
       "      <th>ram_memory</th>\n",
       "      <th>primary_storage_capacity</th>\n",
       "      <th>display_size</th>\n",
       "    </tr>\n",
       "  </thead>\n",
       "  <tbody>\n",
       "    <tr>\n",
       "      <th>count</th>\n",
       "      <td>991.000000</td>\n",
       "      <td>991.000000</td>\n",
       "      <td>991.000000</td>\n",
       "      <td>991.000000</td>\n",
       "      <td>991.000000</td>\n",
       "      <td>991.000000</td>\n",
       "    </tr>\n",
       "    <tr>\n",
       "      <th>mean</th>\n",
       "      <td>505.860747</td>\n",
       "      <td>77266.504541</td>\n",
       "      <td>63.931382</td>\n",
       "      <td>13.047427</td>\n",
       "      <td>610.938446</td>\n",
       "      <td>15.171241</td>\n",
       "    </tr>\n",
       "    <tr>\n",
       "      <th>std</th>\n",
       "      <td>287.899458</td>\n",
       "      <td>57384.910269</td>\n",
       "      <td>10.190575</td>\n",
       "      <td>5.591188</td>\n",
       "      <td>266.927666</td>\n",
       "      <td>0.938089</td>\n",
       "    </tr>\n",
       "    <tr>\n",
       "      <th>min</th>\n",
       "      <td>1.000000</td>\n",
       "      <td>9800.000000</td>\n",
       "      <td>24.000000</td>\n",
       "      <td>2.000000</td>\n",
       "      <td>32.000000</td>\n",
       "      <td>10.100000</td>\n",
       "    </tr>\n",
       "    <tr>\n",
       "      <th>25%</th>\n",
       "      <td>258.500000</td>\n",
       "      <td>43595.000000</td>\n",
       "      <td>58.000000</td>\n",
       "      <td>8.000000</td>\n",
       "      <td>512.000000</td>\n",
       "      <td>14.000000</td>\n",
       "    </tr>\n",
       "    <tr>\n",
       "      <th>50%</th>\n",
       "      <td>507.000000</td>\n",
       "      <td>61900.000000</td>\n",
       "      <td>64.000000</td>\n",
       "      <td>16.000000</td>\n",
       "      <td>512.000000</td>\n",
       "      <td>15.600000</td>\n",
       "    </tr>\n",
       "    <tr>\n",
       "      <th>75%</th>\n",
       "      <td>754.500000</td>\n",
       "      <td>89245.000000</td>\n",
       "      <td>71.000000</td>\n",
       "      <td>16.000000</td>\n",
       "      <td>512.000000</td>\n",
       "      <td>15.600000</td>\n",
       "    </tr>\n",
       "    <tr>\n",
       "      <th>max</th>\n",
       "      <td>1002.000000</td>\n",
       "      <td>454490.000000</td>\n",
       "      <td>89.000000</td>\n",
       "      <td>36.000000</td>\n",
       "      <td>2048.000000</td>\n",
       "      <td>18.000000</td>\n",
       "    </tr>\n",
       "  </tbody>\n",
       "</table>\n",
       "</div>"
      ],
      "text/plain": [
       "             index          Price      Rating  ram_memory  \\\n",
       "count   991.000000     991.000000  991.000000  991.000000   \n",
       "mean    505.860747   77266.504541   63.931382   13.047427   \n",
       "std     287.899458   57384.910269   10.190575    5.591188   \n",
       "min       1.000000    9800.000000   24.000000    2.000000   \n",
       "25%     258.500000   43595.000000   58.000000    8.000000   \n",
       "50%     507.000000   61900.000000   64.000000   16.000000   \n",
       "75%     754.500000   89245.000000   71.000000   16.000000   \n",
       "max    1002.000000  454490.000000   89.000000   36.000000   \n",
       "\n",
       "       primary_storage_capacity  display_size  \n",
       "count                991.000000    991.000000  \n",
       "mean                 610.938446     15.171241  \n",
       "std                  266.927666      0.938089  \n",
       "min                   32.000000     10.100000  \n",
       "25%                  512.000000     14.000000  \n",
       "50%                  512.000000     15.600000  \n",
       "75%                  512.000000     15.600000  \n",
       "max                 2048.000000     18.000000  "
      ]
     },
     "execution_count": 121,
     "metadata": {},
     "output_type": "execute_result"
    }
   ],
   "source": [
    "print(\"\\nStep 2: Summary Statistics of Numeric Columns\")\n",
    "df.describe()"
   ]
  },
  {
   "cell_type": "code",
   "execution_count": 123,
   "metadata": {},
   "outputs": [
    {
     "data": {
      "text/plain": [
       "processor_brand\n",
       "intel    705\n",
       "amd      267\n",
       "apple     15\n",
       "other      4\n",
       "Name: count, dtype: int64"
      ]
     },
     "execution_count": 123,
     "metadata": {},
     "output_type": "execute_result"
    }
   ],
   "source": [
    "# include one for each column:\n",
    "df.processor_brand.value_counts()"
   ]
  },
  {
   "cell_type": "code",
   "execution_count": 125,
   "metadata": {},
   "outputs": [
    {
     "data": {
      "text/plain": [
       "primary_storage_type\n",
       "SSD    964\n",
       "HDD     27\n",
       "Name: count, dtype: int64"
      ]
     },
     "execution_count": 125,
     "metadata": {},
     "output_type": "execute_result"
    }
   ],
   "source": [
    "df.primary_storage_type.value_counts()"
   ]
  },
  {
   "cell_type": "code",
   "execution_count": 126,
   "metadata": {},
   "outputs": [
    {
     "data": {
      "text/plain": [
       "OS\n",
       "windows    924\n",
       "dos         32\n",
       "chrome      16\n",
       "mac         15\n",
       "other        2\n",
       "android      1\n",
       "ubuntu       1\n",
       "Name: count, dtype: int64"
      ]
     },
     "execution_count": 126,
     "metadata": {},
     "output_type": "execute_result"
    }
   ],
   "source": [
    "df.OS.value_counts()"
   ]
  },
  {
   "cell_type": "markdown",
   "metadata": {},
   "source": [
    "Step 4: Data Visualization"
   ]
  },
  {
   "cell_type": "code",
   "execution_count": 128,
   "metadata": {},
   "outputs": [
    {
     "data": {
      "image/png": "[encoded data removed]",
      "text/plain": [
       "<Figure size 800x500 with 1 Axes>"
      ]
     },
     "metadata": {},
     "output_type": "display_data"
    }
   ],
   "source": [
    "# Univariate Histogram\n",
    "plt.figure(figsize=(8, 5))\n",
    "sns.histplot(df['Price'], bins=20, kde=True)\n",
    "plt.title('Histogram of Price')\n",
    "plt.xlabel('Price')\n",
    "plt.ylabel('Frequency')\n",
    "plt.show()"
   ]
  },
  {
   "cell_type": "code",
   "execution_count": 129,
   "metadata": {},
   "outputs": [
    {
     "data": {
      "image/png": "[encoded data removed]",
      "text/plain": [
       "<Figure size 800x500 with 1 Axes>"
      ]
     },
     "metadata": {},
     "output_type": "display_data"
    }
   ],
   "source": [
    "plt.figure(figsize=(8, 5))\n",
    "df['processor_brand'].value_counts().plot(kind='pie', autopct='%1.1f%%', colors=sns.color_palette('pastel'))\n",
    "plt.title('Pie Chart of processor_brand')\n",
    "plt.ylabel('')\n",
    "plt.show()"
   ]
  },
  {
   "cell_type": "code",
   "execution_count": 130,
   "metadata": {},
   "outputs": [
    {
     "data": {
      "image/png": "[encoded data removed]",
      "text/plain": [
       "<Figure size 800x500 with 1 Axes>"
      ]
     },
     "metadata": {},
     "output_type": "display_data"
    }
   ],
   "source": [
    "plt.figure(figsize=(8, 5))\n",
    "df['primary_storage_type'].value_counts().plot(kind='pie', autopct='%1.1f%%', colors=sns.color_palette('pastel'))\n",
    "plt.title('Pie Chart of gpu_brand')\n",
    "plt.ylabel('')\n",
    "plt.show()"
   ]
  },
  {
   "cell_type": "code",
   "execution_count": 131,
   "metadata": {},
   "outputs": [
    {
     "data": {
      "image/png": "[encoded data removed]",
      "text/plain": [
       "<Figure size 800x500 with 1 Axes>"
      ]
     },
     "metadata": {},
     "output_type": "display_data"
    }
   ],
   "source": [
    "# Univariate Box Plot\n",
    "plt.figure(figsize=(8, 5))\n",
    "sns.boxplot(x=df['Rating'])\n",
    "plt.title('Box Plot of rating')\n",
    "plt.xlabel('rating')\n",
    "plt.show()"
   ]
  },
  {
   "cell_type": "code",
   "execution_count": 132,
   "metadata": {},
   "outputs": [
    {
     "data": {
      "image/png": "[encoded data removed]",
      "text/plain": [
       "<Figure size 800x500 with 1 Axes>"
      ]
     },
     "metadata": {},
     "output_type": "display_data"
    }
   ],
   "source": [
    "# Univariate Box Plot\n",
    "plt.figure(figsize=(8, 5))\n",
    "sns.boxplot(x=df['Price'])\n",
    "plt.title('Box Plot of Price')\n",
    "plt.xlabel('price')\n",
    "plt.show()"
   ]
  },
  {
   "cell_type": "code",
   "execution_count": 133,
   "metadata": {},
   "outputs": [
    {
     "data": {
      "text/plain": [
       "<Axes: xlabel='Rating', ylabel='Price'>"
      ]
     },
     "execution_count": 133,
     "metadata": {},
     "output_type": "execute_result"
    },
    {
     "data": {
      "image/png": "[encoded data removed]",
      "text/plain": [
       "<Figure size 640x480 with 1 Axes>"
      ]
     },
     "metadata": {},
     "output_type": "display_data"
    }
   ],
   "source": [
    "# Bivariate Line Plot\n",
    "sns.lineplot(x='Rating', y='Price', data=df, errorbar=None)"
   ]
  },
  {
   "cell_type": "code",
   "execution_count": 134,
   "metadata": {},
   "outputs": [
    {
     "data": {
      "text/plain": [
       "<Axes: xlabel='display_size', ylabel='Price'>"
      ]
     },
     "execution_count": 134,
     "metadata": {},
     "output_type": "execute_result"
    },
    {
     "data": {
      "image/png": "[encoded data removed]",
      "text/plain": [
       "<Figure size 640x480 with 1 Axes>"
      ]
     },
     "metadata": {},
     "output_type": "display_data"
    }
   ],
   "source": [
    "# Bivariate Line Plot\n",
    "sns.lineplot(x='display_size', y='Price', data=df, errorbar=None)"
   ]
  },
  {
   "cell_type": "code",
   "execution_count": 137,
   "metadata": {},
   "outputs": [
    {
     "data": {
      "image/png": "[encoded data removed]",
      "text/plain": [
       "<Figure size 1000x600 with 1 Axes>"
      ]
     },
     "metadata": {},
     "output_type": "display_data"
    }
   ],
   "source": [
    "# Bivariate Scatter Plot\n",
    "plt.figure(figsize=(10, 6))\n",
    "sns.scatterplot(x='Rating', y='Price', hue='primary_storage_type', data=df)\n",
    "plt.title('Scatter Plot ')\n",
    "plt.xlabel('price')\n",
    "plt.ylabel('rating')\n",
    "plt.legend(title='touch/not')\n",
    "plt.show()"
   ]
  },
  {
   "cell_type": "code",
   "execution_count": 62,
   "metadata": {},
   "outputs": [
    {
     "data": {
      "text/plain": [
       "index                         int64\n",
       "brand                        object\n",
       "Model                        object\n",
       "Price                         int64\n",
       "Rating                        int64\n",
       "processor_brand              object\n",
       "processor_tier               object\n",
       "ram_memory                    int64\n",
       "primary_storage_type         object\n",
       "primary_storage_capacity      int64\n",
       "gpu_brand                    object\n",
       "gpu_type                     object\n",
       "is_touch_screen                bool\n",
       "display_size                float64\n",
       "resolution_width              int64\n",
       "resolution_height             int64\n",
       "OS                           object\n",
       "year_of_warranty             object\n",
       "dtype: object"
      ]
     },
     "execution_count": 62,
     "metadata": {},
     "output_type": "execute_result"
    }
   ],
   "source": [
    "df.dtypes"
   ]
  },
  {
   "cell_type": "markdown",
   "metadata": {},
   "source": [
    "Data preprocessing"
   ]
  },
  {
   "cell_type": "code",
   "execution_count": 138,
   "metadata": {},
   "outputs": [],
   "source": [
    "# Step 1: Remove ID columns - index and identity related\n",
    "df = df.drop(columns=['index', 'Model'])"
   ]
  },
  {
   "cell_type": "code",
   "execution_count": 139,
   "metadata": {},
   "outputs": [
    {
     "data": {
      "text/plain": [
       "Price                         int64\n",
       "Rating                        int64\n",
       "processor_brand              object\n",
       "ram_memory                    int64\n",
       "primary_storage_type         object\n",
       "primary_storage_capacity      int64\n",
       "display_size                float64\n",
       "OS                           object\n",
       "year_of_warranty             object\n",
       "dtype: object"
      ]
     },
     "execution_count": 139,
     "metadata": {},
     "output_type": "execute_result"
    }
   ],
   "source": [
    "df.dtypes"
   ]
  },
  {
   "cell_type": "code",
   "execution_count": 140,
   "metadata": {},
   "outputs": [
    {
     "data": {
      "text/plain": [
       "(991, 9)"
      ]
     },
     "execution_count": 140,
     "metadata": {},
     "output_type": "execute_result"
    }
   ],
   "source": [
    "df.shape"
   ]
  },
  {
   "cell_type": "code",
   "execution_count": 141,
   "metadata": {},
   "outputs": [],
   "source": [
    "df = df.dropna()"
   ]
  },
  {
   "cell_type": "code",
   "execution_count": 142,
   "metadata": {},
   "outputs": [
    {
     "data": {
      "text/plain": [
       "(991, 9)"
      ]
     },
     "execution_count": 142,
     "metadata": {},
     "output_type": "execute_result"
    }
   ],
   "source": [
    "df.shape"
   ]
  },
  {
   "cell_type": "code",
   "execution_count": 143,
   "metadata": {},
   "outputs": [],
   "source": [
    "# Step 3: Split numeric columns into X\n",
    "X = df.drop('Price', axis=1)\n",
    "X_num = X.select_dtypes(include=['int64', 'float64'])"
   ]
  },
  {
   "cell_type": "code",
   "execution_count": 144,
   "metadata": {},
   "outputs": [
    {
     "data": {
      "text/plain": [
       "Rating                        int64\n",
       "ram_memory                    int64\n",
       "primary_storage_capacity      int64\n",
       "display_size                float64\n",
       "dtype: object"
      ]
     },
     "execution_count": 144,
     "metadata": {},
     "output_type": "execute_result"
    }
   ],
   "source": [
    "X_num.dtypes"
   ]
  },
  {
   "cell_type": "code",
   "execution_count": 145,
   "metadata": {},
   "outputs": [
    {
     "name": "stdout",
     "output_type": "stream",
     "text": [
      "(707, 9)\n",
      "(707,)\n",
      "(707, 4)\n",
      "(707, 4)\n"
     ]
    }
   ],
   "source": [
    "# outlier filter\n",
    "\n",
    "# get thresholds for outlier\n",
    "Q1 = X_num.quantile(0.25)\n",
    "Q3 = X_num.quantile(0.75)\n",
    "IQR = Q3 - Q1\n",
    "lower_bound = Q1 - 1.5 * IQR\n",
    "#print(lower_bound)\n",
    "#print(X_num)\n",
    "upper_bound = Q3 + 1.5 * IQR\n",
    "# Construct the outlier filter for X_num\n",
    "outlier_filter = ~((X_num < lower_bound) | (X_num > upper_bound)).any(axis=1)\n",
    "# Remove outliers from 'df' using this filter\n",
    "df = df[outlier_filter]  # Remove rows with outliers from 'df'\n",
    "print(df.shape)\n",
    "# From the outlier trimmed df, fetch label, numeric features and category features for further processing\n",
    "# notice the order of these lines\n",
    "Y = df['Price']\n",
    "print(Y.shape)\n",
    "X = df.drop('Price', axis=1)\n",
    "X_num = X.select_dtypes(include=['int64', 'float64'])\n",
    "print(X_num.shape)\n",
    "X_cat = df.select_dtypes(include=['object'])\n",
    "print(X_cat.shape)"
   ]
  },
  {
   "cell_type": "code",
   "execution_count": 146,
   "metadata": {},
   "outputs": [
    {
     "name": "stdout",
     "output_type": "stream",
     "text": [
      "     Rating  ram_memory  primary_storage_capacity  display_size\n",
      "0        63           8                       512          15.6\n",
      "2        73           8                       512          15.6\n",
      "3        62           8                       512          14.0\n",
      "4        62           8                       512          15.6\n",
      "6        56          16                       512          15.6\n",
      "..      ...         ...                       ...           ...\n",
      "985      67           8                       512          15.6\n",
      "986      68          16                       512          15.6\n",
      "987      73          16                       512          15.6\n",
      "988      59           8                       512          15.6\n",
      "989      68          16                       512          14.0\n",
      "\n",
      "[707 rows x 4 columns]\n",
      "=====================\n",
      "    processor_brand primary_storage_type       OS year_of_warranty\n",
      "0             intel                  SSD  windows                1\n",
      "2               amd                  SSD  windows                1\n",
      "3             intel                  SSD  windows                1\n",
      "4               amd                  SSD  windows                1\n",
      "6             intel                  SSD  windows                1\n",
      "..              ...                  ...      ...              ...\n",
      "985             amd                  SSD  windows                1\n",
      "986             amd                  SSD  windows                1\n",
      "987           intel                  SSD  windows                2\n",
      "988             amd                  SSD  windows                1\n",
      "989             amd                  SSD  windows                1\n",
      "\n",
      "[707 rows x 4 columns]\n"
     ]
    }
   ],
   "source": [
    "print(X_num)\n",
    "print(\"=====================\")\n",
    "print(X_cat)"
   ]
  },
  {
   "cell_type": "code",
   "execution_count": 147,
   "metadata": {},
   "outputs": [
    {
     "name": "stdout",
     "output_type": "stream",
     "text": [
      "(707, 4)\n"
     ]
    }
   ],
   "source": [
    "# Step 4: Rescale numeric columns (optional, based on the algorithm used)\n",
    "scaler = MinMaxScaler()\n",
    "X_num_scaled = scaler.fit_transform(X_num)\n",
    "X_num_scaled = pd.DataFrame(X_num_scaled, columns=X_num.columns, index=X_num.index)\n",
    "print(X_num_scaled.shape)"
   ]
  },
  {
   "cell_type": "code",
   "execution_count": 148,
   "metadata": {},
   "outputs": [
    {
     "name": "stdout",
     "output_type": "stream",
     "text": [
      "(707, 12)\n"
     ]
    }
   ],
   "source": [
    "# Step 5: One-hot encode category columns\n",
    "X_cat_encoded = pd.get_dummies(X_cat, drop_first=False, dtype=int)  # Drop_first to avoid multicollinearity\n",
    "print(X_cat_encoded.shape)"
   ]
  },
  {
   "cell_type": "code",
   "execution_count": 149,
   "metadata": {},
   "outputs": [
    {
     "name": "stdout",
     "output_type": "stream",
     "text": [
      "(707, 16)\n",
      "(707,)\n"
     ]
    }
   ],
   "source": [
    "# Step 6: Merge df_num and df_cat_encoded into X\n",
    "X = pd.concat([X_num_scaled, X_cat_encoded], axis=1)\n",
    "print(X.shape)\n",
    "print(Y.shape)\n",
    "\n"
   ]
  },
  {
   "cell_type": "code",
   "execution_count": 151,
   "metadata": {},
   "outputs": [
    {
     "name": "stdout",
     "output_type": "stream",
     "text": [
      "\n",
      "Step 7: Checking for NAs and Shape Compatibility\n",
      "Rating                             0\n",
      "ram_memory                         0\n",
      "primary_storage_capacity           0\n",
      "display_size                       0\n",
      "processor_brand_amd                0\n",
      "processor_brand_apple              0\n",
      "processor_brand_intel              0\n",
      "primary_storage_type_SSD           0\n",
      "OS_dos                             0\n",
      "OS_mac                             0\n",
      "OS_ubuntu                          0\n",
      "OS_windows                         0\n",
      "year_of_warranty_1                 0\n",
      "year_of_warranty_2                 0\n",
      "year_of_warranty_3                 0\n",
      "year_of_warranty_No information    0\n",
      "dtype: int64\n",
      "0\n",
      "(707, 16)\n",
      "(707,)\n"
     ]
    }
   ],
   "source": [
    "# Step 7: Check for NA in X and y; Check for shape compatibility\n",
    "print(\"\\nStep 7: Checking for NAs and Shape Compatibility\")\n",
    "print(X.isnull().sum())\n",
    "print(Y.isnull().sum())\n",
    "print(X.shape)\n",
    "print(Y.shape)"
   ]
  },
  {
   "cell_type": "code",
   "execution_count": 152,
   "metadata": {},
   "outputs": [
    {
     "data": {
      "text/html": [
       "<div>\n",
       "<style scoped>\n",
       "    .dataframe tbody tr th:only-of-type {\n",
       "        vertical-align: middle;\n",
       "    }\n",
       "\n",
       "    .dataframe tbody tr th {\n",
       "        vertical-align: top;\n",
       "    }\n",
       "\n",
       "    .dataframe thead th {\n",
       "        text-align: right;\n",
       "    }\n",
       "</style>\n",
       "<table border=\"1\" class=\"dataframe\">\n",
       "  <thead>\n",
       "    <tr style=\"text-align: right;\">\n",
       "      <th></th>\n",
       "      <th>Rating</th>\n",
       "      <th>ram_memory</th>\n",
       "      <th>primary_storage_capacity</th>\n",
       "      <th>display_size</th>\n",
       "      <th>processor_brand_amd</th>\n",
       "      <th>processor_brand_apple</th>\n",
       "      <th>processor_brand_intel</th>\n",
       "      <th>primary_storage_type_SSD</th>\n",
       "      <th>OS_dos</th>\n",
       "      <th>OS_mac</th>\n",
       "      <th>OS_ubuntu</th>\n",
       "      <th>OS_windows</th>\n",
       "      <th>year_of_warranty_1</th>\n",
       "      <th>year_of_warranty_2</th>\n",
       "      <th>year_of_warranty_3</th>\n",
       "      <th>year_of_warranty_No information</th>\n",
       "    </tr>\n",
       "  </thead>\n",
       "  <tbody>\n",
       "    <tr>\n",
       "      <th>count</th>\n",
       "      <td>707.000000</td>\n",
       "      <td>707.000000</td>\n",
       "      <td>707.0</td>\n",
       "      <td>707.000000</td>\n",
       "      <td>707.000000</td>\n",
       "      <td>707.000000</td>\n",
       "      <td>707.000000</td>\n",
       "      <td>707.0</td>\n",
       "      <td>707.000000</td>\n",
       "      <td>707.000000</td>\n",
       "      <td>707.000000</td>\n",
       "      <td>707.000000</td>\n",
       "      <td>707.000000</td>\n",
       "      <td>707.000000</td>\n",
       "      <td>707.000000</td>\n",
       "      <td>707.000000</td>\n",
       "    </tr>\n",
       "    <tr>\n",
       "      <th>mean</th>\n",
       "      <td>0.497595</td>\n",
       "      <td>0.519802</td>\n",
       "      <td>0.0</td>\n",
       "      <td>0.509062</td>\n",
       "      <td>0.301273</td>\n",
       "      <td>0.008487</td>\n",
       "      <td>0.690240</td>\n",
       "      <td>1.0</td>\n",
       "      <td>0.038190</td>\n",
       "      <td>0.008487</td>\n",
       "      <td>0.001414</td>\n",
       "      <td>0.951909</td>\n",
       "      <td>0.929279</td>\n",
       "      <td>0.056577</td>\n",
       "      <td>0.009901</td>\n",
       "      <td>0.004243</td>\n",
       "    </tr>\n",
       "    <tr>\n",
       "      <th>std</th>\n",
       "      <td>0.183392</td>\n",
       "      <td>0.498898</td>\n",
       "      <td>0.0</td>\n",
       "      <td>0.188768</td>\n",
       "      <td>0.459136</td>\n",
       "      <td>0.091796</td>\n",
       "      <td>0.462722</td>\n",
       "      <td>0.0</td>\n",
       "      <td>0.191789</td>\n",
       "      <td>0.091796</td>\n",
       "      <td>0.037609</td>\n",
       "      <td>0.214109</td>\n",
       "      <td>0.256540</td>\n",
       "      <td>0.231196</td>\n",
       "      <td>0.099080</td>\n",
       "      <td>0.065048</td>\n",
       "    </tr>\n",
       "    <tr>\n",
       "      <th>min</th>\n",
       "      <td>0.000000</td>\n",
       "      <td>0.000000</td>\n",
       "      <td>0.0</td>\n",
       "      <td>0.000000</td>\n",
       "      <td>0.000000</td>\n",
       "      <td>0.000000</td>\n",
       "      <td>0.000000</td>\n",
       "      <td>1.0</td>\n",
       "      <td>0.000000</td>\n",
       "      <td>0.000000</td>\n",
       "      <td>0.000000</td>\n",
       "      <td>0.000000</td>\n",
       "      <td>0.000000</td>\n",
       "      <td>0.000000</td>\n",
       "      <td>0.000000</td>\n",
       "      <td>0.000000</td>\n",
       "    </tr>\n",
       "    <tr>\n",
       "      <th>25%</th>\n",
       "      <td>0.375000</td>\n",
       "      <td>0.000000</td>\n",
       "      <td>0.0</td>\n",
       "      <td>0.232558</td>\n",
       "      <td>0.000000</td>\n",
       "      <td>0.000000</td>\n",
       "      <td>0.000000</td>\n",
       "      <td>1.0</td>\n",
       "      <td>0.000000</td>\n",
       "      <td>0.000000</td>\n",
       "      <td>0.000000</td>\n",
       "      <td>1.000000</td>\n",
       "      <td>1.000000</td>\n",
       "      <td>0.000000</td>\n",
       "      <td>0.000000</td>\n",
       "      <td>0.000000</td>\n",
       "    </tr>\n",
       "    <tr>\n",
       "      <th>50%</th>\n",
       "      <td>0.500000</td>\n",
       "      <td>1.000000</td>\n",
       "      <td>0.0</td>\n",
       "      <td>0.604651</td>\n",
       "      <td>0.000000</td>\n",
       "      <td>0.000000</td>\n",
       "      <td>1.000000</td>\n",
       "      <td>1.0</td>\n",
       "      <td>0.000000</td>\n",
       "      <td>0.000000</td>\n",
       "      <td>0.000000</td>\n",
       "      <td>1.000000</td>\n",
       "      <td>1.000000</td>\n",
       "      <td>0.000000</td>\n",
       "      <td>0.000000</td>\n",
       "      <td>0.000000</td>\n",
       "    </tr>\n",
       "    <tr>\n",
       "      <th>75%</th>\n",
       "      <td>0.650000</td>\n",
       "      <td>1.000000</td>\n",
       "      <td>0.0</td>\n",
       "      <td>0.604651</td>\n",
       "      <td>1.000000</td>\n",
       "      <td>0.000000</td>\n",
       "      <td>1.000000</td>\n",
       "      <td>1.0</td>\n",
       "      <td>0.000000</td>\n",
       "      <td>0.000000</td>\n",
       "      <td>0.000000</td>\n",
       "      <td>1.000000</td>\n",
       "      <td>1.000000</td>\n",
       "      <td>0.000000</td>\n",
       "      <td>0.000000</td>\n",
       "      <td>0.000000</td>\n",
       "    </tr>\n",
       "    <tr>\n",
       "      <th>max</th>\n",
       "      <td>1.000000</td>\n",
       "      <td>1.000000</td>\n",
       "      <td>0.0</td>\n",
       "      <td>1.000000</td>\n",
       "      <td>1.000000</td>\n",
       "      <td>1.000000</td>\n",
       "      <td>1.000000</td>\n",
       "      <td>1.0</td>\n",
       "      <td>1.000000</td>\n",
       "      <td>1.000000</td>\n",
       "      <td>1.000000</td>\n",
       "      <td>1.000000</td>\n",
       "      <td>1.000000</td>\n",
       "      <td>1.000000</td>\n",
       "      <td>1.000000</td>\n",
       "      <td>1.000000</td>\n",
       "    </tr>\n",
       "  </tbody>\n",
       "</table>\n",
       "</div>"
      ],
      "text/plain": [
       "           Rating  ram_memory  primary_storage_capacity  display_size  \\\n",
       "count  707.000000  707.000000                     707.0    707.000000   \n",
       "mean     0.497595    0.519802                       0.0      0.509062   \n",
       "std      0.183392    0.498898                       0.0      0.188768   \n",
       "min      0.000000    0.000000                       0.0      0.000000   \n",
       "25%      0.375000    0.000000                       0.0      0.232558   \n",
       "50%      0.500000    1.000000                       0.0      0.604651   \n",
       "75%      0.650000    1.000000                       0.0      0.604651   \n",
       "max      1.000000    1.000000                       0.0      1.000000   \n",
       "\n",
       "       processor_brand_amd  processor_brand_apple  processor_brand_intel  \\\n",
       "count           707.000000             707.000000             707.000000   \n",
       "mean              0.301273               0.008487               0.690240   \n",
       "std               0.459136               0.091796               0.462722   \n",
       "min               0.000000               0.000000               0.000000   \n",
       "25%               0.000000               0.000000               0.000000   \n",
       "50%               0.000000               0.000000               1.000000   \n",
       "75%               1.000000               0.000000               1.000000   \n",
       "max               1.000000               1.000000               1.000000   \n",
       "\n",
       "       primary_storage_type_SSD      OS_dos      OS_mac   OS_ubuntu  \\\n",
       "count                     707.0  707.000000  707.000000  707.000000   \n",
       "mean                        1.0    0.038190    0.008487    0.001414   \n",
       "std                         0.0    0.191789    0.091796    0.037609   \n",
       "min                         1.0    0.000000    0.000000    0.000000   \n",
       "25%                         1.0    0.000000    0.000000    0.000000   \n",
       "50%                         1.0    0.000000    0.000000    0.000000   \n",
       "75%                         1.0    0.000000    0.000000    0.000000   \n",
       "max                         1.0    1.000000    1.000000    1.000000   \n",
       "\n",
       "       OS_windows  year_of_warranty_1  year_of_warranty_2  year_of_warranty_3  \\\n",
       "count  707.000000          707.000000          707.000000          707.000000   \n",
       "mean     0.951909            0.929279            0.056577            0.009901   \n",
       "std      0.214109            0.256540            0.231196            0.099080   \n",
       "min      0.000000            0.000000            0.000000            0.000000   \n",
       "25%      1.000000            1.000000            0.000000            0.000000   \n",
       "50%      1.000000            1.000000            0.000000            0.000000   \n",
       "75%      1.000000            1.000000            0.000000            0.000000   \n",
       "max      1.000000            1.000000            1.000000            1.000000   \n",
       "\n",
       "       year_of_warranty_No information  \n",
       "count                       707.000000  \n",
       "mean                          0.004243  \n",
       "std                           0.065048  \n",
       "min                           0.000000  \n",
       "25%                           0.000000  \n",
       "50%                           0.000000  \n",
       "75%                           0.000000  \n",
       "max                           1.000000  "
      ]
     },
     "execution_count": 152,
     "metadata": {},
     "output_type": "execute_result"
    }
   ],
   "source": [
    "X.describe()"
   ]
  },
  {
   "cell_type": "code",
   "execution_count": 160,
   "metadata": {},
   "outputs": [
    {
     "name": "stdout",
     "output_type": "stream",
     "text": [
      "(600, 16)\n",
      "(107, 16)\n",
      "(600,)\n",
      "(107,)\n"
     ]
    }
   ],
   "source": [
    "# Step 8: Train-test split\n",
    "X_train, X_test, y_train, y_test = train_test_split(X, Y, test_size=0.15, random_state=42)\n",
    "print(X_train.shape)\n",
    "print(X_test.shape)\n",
    "print(y_train.shape)\n",
    "print(y_test.shape)"
   ]
  },
  {
   "cell_type": "code",
   "execution_count": null,
   "metadata": {},
   "outputs": [],
   "source": [
    "# Step 9: Observations after preprocessing\n",
    "# - ID columns have been removed.\n",
    "# - Rows with missing values have been removed.\n",
    "# - Numeric and categorical features have been separated into X and y, respectively.\n",
    "# - Numeric columns have been rescaled (if required, this step is optional based on the algorithm used).\n",
    "# - Category columns have been one-hot encoded to be used in the model.\n",
    "# - The dataset has been split into train and test sets for model evaluation."
   ]
  },
  {
   "cell_type": "markdown",
   "metadata": {},
   "source": [
    "ready to implement model"
   ]
  },
  {
   "cell_type": "code",
   "execution_count": 7,
   "metadata": {},
   "outputs": [],
   "source": [
    "X.to_csv('Laptop_features.csv', index=False)\n",
    "Y.to_csv('laptop_label_price.csv',index=False)"
   ]
  },
  {
   "cell_type": "code",
   "execution_count": 9,
   "metadata": {},
   "outputs": [],
   "source": [
    "# We had saved the feature and label as CSV files. read them back in.\n",
    "# make these CSV files available in the same folder as this notebook.\n",
    "# Read the CSV files back into X and y\n",
    "X = pd.read_csv('Laptop_features.csv')\n",
    "y = pd.read_csv('laptop_label_price.csv')"
   ]
  },
  {
   "cell_type": "code",
   "execution_count": 10,
   "metadata": {},
   "outputs": [
    {
     "data": {
      "text/plain": [
       "((707, 16), (707, 1))"
      ]
     },
     "execution_count": 10,
     "metadata": {},
     "output_type": "execute_result"
    }
   ],
   "source": [
    "X.shape, y.shape"
   ]
  },
  {
   "cell_type": "code",
   "execution_count": 16,
   "metadata": {},
   "outputs": [
    {
     "data": {
      "text/html": [
       "<div>\n",
       "<style scoped>\n",
       "    .dataframe tbody tr th:only-of-type {\n",
       "        vertical-align: middle;\n",
       "    }\n",
       "\n",
       "    .dataframe tbody tr th {\n",
       "        vertical-align: top;\n",
       "    }\n",
       "\n",
       "    .dataframe thead th {\n",
       "        text-align: right;\n",
       "    }\n",
       "</style>\n",
       "<table border=\"1\" class=\"dataframe\">\n",
       "  <thead>\n",
       "    <tr style=\"text-align: right;\">\n",
       "      <th></th>\n",
       "      <th>Price</th>\n",
       "    </tr>\n",
       "  </thead>\n",
       "  <tbody>\n",
       "    <tr>\n",
       "      <th>0</th>\n",
       "      <td>23990</td>\n",
       "    </tr>\n",
       "    <tr>\n",
       "      <th>1</th>\n",
       "      <td>51100</td>\n",
       "    </tr>\n",
       "    <tr>\n",
       "      <th>2</th>\n",
       "      <td>39990</td>\n",
       "    </tr>\n",
       "    <tr>\n",
       "      <th>3</th>\n",
       "      <td>28580</td>\n",
       "    </tr>\n",
       "    <tr>\n",
       "      <th>4</th>\n",
       "      <td>34990</td>\n",
       "    </tr>\n",
       "    <tr>\n",
       "      <th>...</th>\n",
       "      <td>...</td>\n",
       "    </tr>\n",
       "    <tr>\n",
       "      <th>702</th>\n",
       "      <td>75500</td>\n",
       "    </tr>\n",
       "    <tr>\n",
       "      <th>703</th>\n",
       "      <td>65990</td>\n",
       "    </tr>\n",
       "    <tr>\n",
       "      <th>704</th>\n",
       "      <td>91990</td>\n",
       "    </tr>\n",
       "    <tr>\n",
       "      <th>705</th>\n",
       "      <td>44990</td>\n",
       "    </tr>\n",
       "    <tr>\n",
       "      <th>706</th>\n",
       "      <td>67990</td>\n",
       "    </tr>\n",
       "  </tbody>\n",
       "</table>\n",
       "<p>707 rows × 1 columns</p>\n",
       "</div>"
      ],
      "text/plain": [
       "     Price\n",
       "0    23990\n",
       "1    51100\n",
       "2    39990\n",
       "3    28580\n",
       "4    34990\n",
       "..     ...\n",
       "702  75500\n",
       "703  65990\n",
       "704  91990\n",
       "705  44990\n",
       "706  67990\n",
       "\n",
       "[707 rows x 1 columns]"
      ]
     },
     "execution_count": 16,
     "metadata": {},
     "output_type": "execute_result"
    }
   ],
   "source": [
    "Y"
   ]
  },
  {
   "cell_type": "code",
   "execution_count": 11,
   "metadata": {},
   "outputs": [],
   "source": [
    "X_train, X_test, y_train, y_test = train_test_split(X, y, test_size=0.2, random_state=42)"
   ]
  },
  {
   "cell_type": "code",
   "execution_count": 12,
   "metadata": {},
   "outputs": [],
   "source": [
    "# arbitrarily select a k to try out the code before we use the same code to get the best k\n",
    "k = 5"
   ]
  },
  {
   "cell_type": "code",
   "execution_count": 29,
   "metadata": {},
   "outputs": [
    {
     "name": "stdout",
     "output_type": "stream",
     "text": [
      "    K  Train R-squared  Train MAPE  Test MAPE\n",
      "0   3         0.773960   16.749982  19.338348\n",
      "1   5         0.749744   17.369857  18.053274\n",
      "2   7         0.722197   17.892794  18.750456\n",
      "3   9         0.691493   18.501681  18.645212\n",
      "4  11         0.662678   18.929664  18.536542\n",
      "5  13         0.631127   19.098518  18.629861\n",
      "6  15         0.605679   19.525151  18.831311\n"
     ]
    }
   ],
   "source": [
    "# Define a list of K values to try out\n",
    "k_values = [3, 5, 7, 9, 11, 13, 15]\n",
    "\n",
    "# Initialize lists to store evaluation metrics for each K value\n",
    "train_r_squared = []\n",
    "train_mape = []\n",
    "test_mape = []\n",
    "\n",
    "# Step 2: Loop through different K values and fit KNN regression models\n",
    "for k in k_values:\n",
    "    knn_regressor = KNeighborsRegressor(n_neighbors=k)\n",
    "    knn_regressor.fit(X_train, y_train)\n",
    "    \n",
    "    # Step 3: Make predictions on both train and test sets\n",
    "    y_train_pred = knn_regressor.predict(X_train)\n",
    "    y_test_pred = knn_regressor.predict(X_test)\n",
    "\n",
    "\n",
    "\n",
    "    # Step 4: Calculate evaluation metrics for each K value\n",
    "    train_r_squared.append(r2_score(y_train, y_train_pred))\n",
    "    train_mape.append(np.mean(np.abs((y_train - y_train_pred) / y_train)) * 100)\n",
    "    test_mape.append(np.mean(np.abs((y_test - y_test_pred) / y_test)) * 100)\n",
    "\n",
    "# Create a DataFrame to store the results\n",
    "evaluation_df = pd.DataFrame({\n",
    "    'K': k_values,\n",
    "    'Train R-squared': train_r_squared,\n",
    "    'Train MAPE': train_mape,\n",
    "    'Test MAPE': test_mape\n",
    "})\n",
    "\n",
    "# Display the evaluation metrics for different K values\n",
    "print(evaluation_df)"
   ]
  }
 ],
 "metadata": {
  "kernelspec": {
   "display_name": "DMP",
   "language": "python",
   "name": "python3"
  },
  "language_info": {
   "codemirror_mode": {
    "name": "ipython",
    "version": 3
   },
   "file_extension": ".py",
   "mimetype": "text/x-python",
   "name": "python",
   "nbconvert_exporter": "python",
   "pygments_lexer": "ipython3",
   "version": "3.8.18"
  }
 },
 "nbformat": 4,
 "nbformat_minor": 2
}
